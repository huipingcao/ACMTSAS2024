{
 "cells": [
  {
   "cell_type": "code",
   "execution_count": 10,
   "source": [
    "import sys\n",
    "import os"
   ],
   "outputs": [],
   "metadata": {}
  },
  {
   "cell_type": "code",
   "execution_count": 11,
   "source": [
    "print(os.getcwd())"
   ],
   "outputs": [
    {
     "output_type": "stream",
     "name": "stdout",
     "text": [
      "/home/gqxwolf/mydata/GNN_Combinatroal/skylineGNN/003\n"
     ]
    }
   ],
   "metadata": {}
  },
  {
   "cell_type": "code",
   "execution_count": 12,
   "source": [
    "import torch"
   ],
   "outputs": [],
   "metadata": {}
  },
  {
   "cell_type": "code",
   "execution_count": 13,
   "source": [
    "print(torch.__version__)\n",
    "print(torch.version.cuda)"
   ],
   "outputs": [
    {
     "output_type": "stream",
     "name": "stdout",
     "text": [
      "1.9.0\n",
      "11.1\n"
     ]
    }
   ],
   "metadata": {}
  },
  {
   "cell_type": "code",
   "execution_count": 14,
   "source": [
    "sys.path.append('/home/gqxwolf/mydata/GNN_Combinatroal/skylineGNN/003')\n",
    "sys.path.append('/home/gqxwolf/mydata/GNN_Combinatroal/skylineGNN/utilities')\n",
    "print(sys.path)"
   ],
   "outputs": [
    {
     "output_type": "stream",
     "name": "stdout",
     "text": [
      "['/home/gqxwolf/mydata/GNN_Combinatroal/skylineGNN/003', '/home/gqxwolf/.vscode/extensions/ms-toolsai.jupyter-2021.8.2041215044/pythonFiles', '/home/gqxwolf/.vscode/extensions/ms-toolsai.jupyter-2021.8.2041215044/pythonFiles/lib/python', '/home/gqxwolf/anaconda3/envs/skylineGNN/lib/python38.zip', '/home/gqxwolf/anaconda3/envs/skylineGNN/lib/python3.8', '/home/gqxwolf/anaconda3/envs/skylineGNN/lib/python3.8/lib-dynload', '', '/home/gqxwolf/.local/lib/python3.8/site-packages', '/home/gqxwolf/anaconda3/envs/skylineGNN/lib/python3.8/site-packages', '/home/gqxwolf/anaconda3/envs/skylineGNN/lib/python3.8/site-packages/IPython/extensions', '/home/gqxwolf/.ipython', '/home/gqxwolf/mydata/GNN_Combinatroal/skylineGNN/003', '/home/gqxwolf/mydata/GNN_Combinatroal/skylineGNN/utilities', '/home/gqxwolf/mydata/GNN_Combinatroal/skylineGNN/003', '/home/gqxwolf/mydata/GNN_Combinatroal/skylineGNN/utilities']\n"
     ]
    }
   ],
   "metadata": {}
  },
  {
   "cell_type": "code",
   "execution_count": 15,
   "source": [
    "from torch.nn import CrossEntropyLoss, BCELoss, BCEWithLogitsLoss\n",
    "from torch_geometric.data import DataLoader\n",
    "# from torch_geometric.loader import DataLoader\n",
    "import numpy as np\n",
    "from model import GraphEncoder\n",
    "from readData import LoadData, LoadGraph\n",
    "import os\n",
    "from MultiCostNetworks import MultiCostNetworks\n",
    "import torch.nn.functional as F\n",
    "from drawRawGraphs import draw_graph\n",
    "import time\n",
    "from torch_geometric.utils import subgraph, k_hop_subgraph\n",
    "import math"
   ],
   "outputs": [],
   "metadata": {}
  },
  {
   "cell_type": "code",
   "execution_count": 16,
   "source": [
    "from readCheckPoints import getMaxCheckPointName\n",
    "from MultiCostNetworks import MultiCostNetworks\n",
    "from readData import LoadData, LoadGraph\n",
    "from model import GraphEncoder\n",
    "from drawRawGraphs import draw_graph_with_DataObj"
   ],
   "outputs": [],
   "metadata": {}
  },
  {
   "cell_type": "code",
   "execution_count": 17,
   "source": [
    "path = \"/home/gqxwolf/mydata/projectData/skylineGNN/dataset/C9_NY_NONE/C9_NY_NONE_30K/processed/level8\"\n",
    "train_paths_folder = \"/home/gqxwolf/mydata/projectData/skylineGNN/results_back/C9_NY_NONE_30K/processed/level8/results\"\n",
    "check_point_file = '/home/gqxwolf/mydata/projectData/skylineGNN/C9_NY_NONE_30K/processed/level8/512_512_64_200_1_Embed-1_5787_train_checkpoint_GCN_ConLoss-2_2GNN3FF_10k_train_samples.pt'\n",
    "data_folder = \"/home/gqxwolf/mydata/projectData/skylineGNN/processed/C9_NY_NONE_30K/processed/level8\"\n",
    "\n",
    "print(path)\n",
    "print(train_paths_folder)\n",
    "print(check_point_file)\n",
    "print(data_folder)"
   ],
   "outputs": [
    {
     "output_type": "stream",
     "name": "stdout",
     "text": [
      "/home/gqxwolf/mydata/projectData/skylineGNN/dataset/C9_NY_NONE/C9_NY_NONE_30K/processed/level8\n",
      "/home/gqxwolf/mydata/projectData/skylineGNN/results_back/C9_NY_NONE_30K/processed/level8/results\n",
      "/home/gqxwolf/mydata/projectData/skylineGNN/C9_NY_NONE_30K/processed/level8/512_512_64_200_1_Embed-1_5787_train_checkpoint_GCN_ConLoss-2_2GNN3FF_10k_train_samples.pt\n",
      "/home/gqxwolf/mydata/projectData/skylineGNN/processed/C9_NY_NONE_30K/processed/level8\n"
     ]
    }
   ],
   "metadata": {}
  },
  {
   "cell_type": "code",
   "execution_count": 19,
   "source": [
    "node_dim = 2\n",
    "edge_dim = 3\n",
    "embedding_dim = 512\n",
    "hidden_dim = 512\n",
    "batch_size = 64\n",
    "enable_embed = True\n",
    "output_dim = 3\n",
    "model_name = \"GCN\"\n",
    "heads = 2\n",
    "conn_loss_enable = False\n",
    "enable_edge_attr= True\n",
    "\n",
    "device = torch.device('cuda' if torch.cuda.is_available() else 'cpu')\n",
    "print(device)\n",
    "\n",
    "num_node, graph = LoadGraph(path, logger=None, normalization_node=False, normalization_edge=True)\n",
    "\n",
    "print(\"==========================================\")\n",
    "\n",
    "train_dataset = MultiCostNetworks(\n",
    "    graph, train_paths_folder=train_paths_folder, root=data_folder, split='train')\n",
    "test_dataset = MultiCostNetworks(\n",
    "    graph, train_paths_folder=train_paths_folder, root=data_folder, split='test')\n",
    "train_loader = DataLoader(train_dataset, drop_last=True, batch_size=batch_size)\n",
    "test_loader = DataLoader(test_dataset, drop_last=True, batch_size=batch_size)"
   ],
   "outputs": [
    {
     "output_type": "stream",
     "name": "stdout",
     "text": [
      "cuda\n",
      "coordinates with raw values:---------------------------------------\n",
      "   node_id            lattitude           longitude\n",
      "0        0   0.8193483335404892  0.8074799968985644\n",
      "1        1   0.8180258014613173   0.807905195678984\n",
      "2        2  0.43024765535434994  0.7378674530343119\n",
      "3        3    0.652546996505464  0.9097328000840434\n",
      "4        4   0.6543909446263001  0.9090074609879935\n",
      "normalized coordinates:---------------------------------------\n",
      "   node_id            lattitude           longitude\n",
      "0        0   0.8193483335404892  0.8074799968985644\n",
      "1        1   0.8180258014613173   0.807905195678984\n",
      "2        2  0.43024765535434994  0.7378674530343119\n",
      "3        3    0.652546996505464  0.9097328000840434\n",
      "4        4   0.6543909446263001  0.9090074609879935\n",
      "0.966197737537783 0.038329258691419454\n",
      "0.9460047572239887 0.007753624819599736\n",
      "edge attributes with raw values:---------------------------------------\n",
      "   src_node_id  dest_node_id   cost1 cost2 cost3\n",
      "0         3206          3207   752.0  75.0   1.0\n",
      "1         3205          3206   828.0  32.0   7.0\n",
      "2         3207          3208   766.0  87.0  61.0\n",
      "3         3208          3210   879.0  12.0  91.0\n",
      "4         3210          3211  1561.0  41.0  39.0\n",
      "Shape of nodes: torch.Size([5787, 2])\n",
      "directed graph:  Data(edge_attr=[6024, 3], edge_index=[2, 6024], x=[5787, 2])\n",
      "undirected graph:  Data(edge_attr=[12048, 3], edge_index=[2, 12048], x=[5787, 2])\n",
      "==============================================================\n",
      "Number of nodes: 5787\n",
      "Number of edges: 12048\n",
      "Average node degree: 2.08\n",
      "Contains isolated nodes: False\n",
      "Contains self-loops: False\n",
      "Is undirected: True\n",
      "==============================================================\n",
      "==========================================\n"
     ]
    }
   ],
   "metadata": {}
  }
 ],
 "metadata": {
  "orig_nbformat": 4,
  "language_info": {
   "name": "python",
   "version": "3.8.11",
   "mimetype": "text/x-python",
   "codemirror_mode": {
    "name": "ipython",
    "version": 3
   },
   "pygments_lexer": "ipython3",
   "nbconvert_exporter": "python",
   "file_extension": ".py"
  },
  "kernelspec": {
   "name": "python3",
   "display_name": "Python 3.8.11 64-bit ('skylineGNN': conda)"
  },
  "interpreter": {
   "hash": "d8be9cb51a5adef9b5d31ae2bdc48449c07bdc1c1cb0c59628e7bbcf81de5a41"
  }
 },
 "nbformat": 4,
 "nbformat_minor": 2
}